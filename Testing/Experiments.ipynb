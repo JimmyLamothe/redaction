{
 "cells": [
  {
   "cell_type": "code",
   "execution_count": 258,
   "id": "altered-ancient",
   "metadata": {},
   "outputs": [],
   "source": [
    "import numpy as np\n",
    "import pandas as pd\n",
    "np.random.seed(0)\n",
    "db = pd.DataFrame(np.random.randint(0,10,size=(4, 6)), columns=list('ABCDEF'))"
   ]
  },
  {
   "cell_type": "code",
   "execution_count": 259,
   "id": "effective-investing",
   "metadata": {},
   "outputs": [
    {
     "data": {
      "text/html": [
       "<div>\n",
       "<style scoped>\n",
       "    .dataframe tbody tr th:only-of-type {\n",
       "        vertical-align: middle;\n",
       "    }\n",
       "\n",
       "    .dataframe tbody tr th {\n",
       "        vertical-align: top;\n",
       "    }\n",
       "\n",
       "    .dataframe thead th {\n",
       "        text-align: right;\n",
       "    }\n",
       "</style>\n",
       "<table border=\"1\" class=\"dataframe\">\n",
       "  <thead>\n",
       "    <tr style=\"text-align: right;\">\n",
       "      <th></th>\n",
       "      <th>A</th>\n",
       "      <th>B</th>\n",
       "      <th>C</th>\n",
       "      <th>D</th>\n",
       "      <th>E</th>\n",
       "      <th>F</th>\n",
       "    </tr>\n",
       "  </thead>\n",
       "  <tbody>\n",
       "    <tr>\n",
       "      <th>0</th>\n",
       "      <td>5</td>\n",
       "      <td>0</td>\n",
       "      <td>3</td>\n",
       "      <td>3</td>\n",
       "      <td>7</td>\n",
       "      <td>9</td>\n",
       "    </tr>\n",
       "    <tr>\n",
       "      <th>1</th>\n",
       "      <td>3</td>\n",
       "      <td>5</td>\n",
       "      <td>2</td>\n",
       "      <td>4</td>\n",
       "      <td>7</td>\n",
       "      <td>6</td>\n",
       "    </tr>\n",
       "    <tr>\n",
       "      <th>2</th>\n",
       "      <td>8</td>\n",
       "      <td>8</td>\n",
       "      <td>1</td>\n",
       "      <td>6</td>\n",
       "      <td>7</td>\n",
       "      <td>7</td>\n",
       "    </tr>\n",
       "    <tr>\n",
       "      <th>3</th>\n",
       "      <td>8</td>\n",
       "      <td>1</td>\n",
       "      <td>5</td>\n",
       "      <td>9</td>\n",
       "      <td>8</td>\n",
       "      <td>9</td>\n",
       "    </tr>\n",
       "  </tbody>\n",
       "</table>\n",
       "</div>"
      ],
      "text/plain": [
       "   A  B  C  D  E  F\n",
       "0  5  0  3  3  7  9\n",
       "1  3  5  2  4  7  6\n",
       "2  8  8  1  6  7  7\n",
       "3  8  1  5  9  8  9"
      ]
     },
     "execution_count": 259,
     "metadata": {},
     "output_type": "execute_result"
    }
   ],
   "source": [
    "db"
   ]
  },
  {
   "cell_type": "code",
   "execution_count": 260,
   "id": "suited-living",
   "metadata": {},
   "outputs": [],
   "source": [
    "db.loc[4] = np.random.randint(0,10, size=6)"
   ]
  },
  {
   "cell_type": "code",
   "execution_count": 261,
   "id": "herbal-residence",
   "metadata": {},
   "outputs": [
    {
     "data": {
      "text/plain": [
       "5"
      ]
     },
     "execution_count": 261,
     "metadata": {},
     "output_type": "execute_result"
    }
   ],
   "source": [
    "db.iloc[-1].name + 1"
   ]
  },
  {
   "cell_type": "code",
   "execution_count": 262,
   "id": "cosmetic-ambassador",
   "metadata": {},
   "outputs": [
    {
     "data": {
      "text/plain": [
       "4"
      ]
     },
     "execution_count": 262,
     "metadata": {},
     "output_type": "execute_result"
    }
   ],
   "source": [
    "db.iloc[-1].name"
   ]
  },
  {
   "cell_type": "code",
   "execution_count": 263,
   "id": "efficient-devon",
   "metadata": {},
   "outputs": [],
   "source": [
    "s = pd.Series(np.random.randint(0,6,size=6))"
   ]
  },
  {
   "cell_type": "code",
   "execution_count": 264,
   "id": "julian-qatar",
   "metadata": {},
   "outputs": [
    {
     "data": {
      "text/plain": [
       "0    2\n",
       "1    3\n",
       "2    0\n",
       "3    1\n",
       "4    3\n",
       "5    5\n",
       "dtype: int64"
      ]
     },
     "execution_count": 264,
     "metadata": {},
     "output_type": "execute_result"
    }
   ],
   "source": [
    "s"
   ]
  },
  {
   "cell_type": "code",
   "execution_count": 265,
   "id": "given-sender",
   "metadata": {},
   "outputs": [
    {
     "data": {
      "text/html": [
       "<div>\n",
       "<style scoped>\n",
       "    .dataframe tbody tr th:only-of-type {\n",
       "        vertical-align: middle;\n",
       "    }\n",
       "\n",
       "    .dataframe tbody tr th {\n",
       "        vertical-align: top;\n",
       "    }\n",
       "\n",
       "    .dataframe thead th {\n",
       "        text-align: right;\n",
       "    }\n",
       "</style>\n",
       "<table border=\"1\" class=\"dataframe\">\n",
       "  <thead>\n",
       "    <tr style=\"text-align: right;\">\n",
       "      <th></th>\n",
       "      <th>A</th>\n",
       "      <th>B</th>\n",
       "      <th>C</th>\n",
       "      <th>D</th>\n",
       "      <th>E</th>\n",
       "      <th>F</th>\n",
       "    </tr>\n",
       "  </thead>\n",
       "  <tbody>\n",
       "    <tr>\n",
       "      <th>0</th>\n",
       "      <td>5</td>\n",
       "      <td>0</td>\n",
       "      <td>3</td>\n",
       "      <td>3</td>\n",
       "      <td>7</td>\n",
       "      <td>9</td>\n",
       "    </tr>\n",
       "    <tr>\n",
       "      <th>1</th>\n",
       "      <td>3</td>\n",
       "      <td>5</td>\n",
       "      <td>2</td>\n",
       "      <td>4</td>\n",
       "      <td>7</td>\n",
       "      <td>6</td>\n",
       "    </tr>\n",
       "    <tr>\n",
       "      <th>2</th>\n",
       "      <td>8</td>\n",
       "      <td>8</td>\n",
       "      <td>1</td>\n",
       "      <td>6</td>\n",
       "      <td>7</td>\n",
       "      <td>7</td>\n",
       "    </tr>\n",
       "  </tbody>\n",
       "</table>\n",
       "</div>"
      ],
      "text/plain": [
       "   A  B  C  D  E  F\n",
       "0  5  0  3  3  7  9\n",
       "1  3  5  2  4  7  6\n",
       "2  8  8  1  6  7  7"
      ]
     },
     "execution_count": 265,
     "metadata": {},
     "output_type": "execute_result"
    }
   ],
   "source": [
    "df.loc[(df == 7).any(axis=1),:]"
   ]
  },
  {
   "cell_type": "code",
   "execution_count": 266,
   "id": "adjusted-protein",
   "metadata": {},
   "outputs": [],
   "source": [
    "key_df = pd.DataFrame.from_dict({'phrase 1':[True, False], 'phrase 2':[]}, orient='index')"
   ]
  },
  {
   "cell_type": "code",
   "execution_count": 267,
   "id": "regulation-aurora",
   "metadata": {},
   "outputs": [
    {
     "data": {
      "text/plain": [
       "Index(['phrase 1', 'phrase 2'], dtype='object')"
      ]
     },
     "execution_count": 267,
     "metadata": {},
     "output_type": "execute_result"
    }
   ],
   "source": [
    "key_df.index"
   ]
  },
  {
   "cell_type": "code",
   "execution_count": 268,
   "id": "ready-majority",
   "metadata": {},
   "outputs": [],
   "source": [
    "key_df.iloc[0:0] = 0"
   ]
  },
  {
   "cell_type": "code",
   "execution_count": 269,
   "id": "spatial-pilot",
   "metadata": {},
   "outputs": [
    {
     "data": {
      "text/html": [
       "<div>\n",
       "<style scoped>\n",
       "    .dataframe tbody tr th:only-of-type {\n",
       "        vertical-align: middle;\n",
       "    }\n",
       "\n",
       "    .dataframe tbody tr th {\n",
       "        vertical-align: top;\n",
       "    }\n",
       "\n",
       "    .dataframe thead th {\n",
       "        text-align: right;\n",
       "    }\n",
       "</style>\n",
       "<table border=\"1\" class=\"dataframe\">\n",
       "  <thead>\n",
       "    <tr style=\"text-align: right;\">\n",
       "      <th></th>\n",
       "      <th>0</th>\n",
       "      <th>1</th>\n",
       "    </tr>\n",
       "  </thead>\n",
       "  <tbody>\n",
       "    <tr>\n",
       "      <th>phrase 1</th>\n",
       "      <td>True</td>\n",
       "      <td>False</td>\n",
       "    </tr>\n",
       "    <tr>\n",
       "      <th>phrase 2</th>\n",
       "      <td>None</td>\n",
       "      <td>None</td>\n",
       "    </tr>\n",
       "  </tbody>\n",
       "</table>\n",
       "</div>"
      ],
      "text/plain": [
       "             0      1\n",
       "phrase 1  True  False\n",
       "phrase 2  None   None"
      ]
     },
     "execution_count": 269,
     "metadata": {},
     "output_type": "execute_result"
    }
   ],
   "source": [
    "key_df"
   ]
  },
  {
   "cell_type": "code",
   "execution_count": 270,
   "id": "reserved-produce",
   "metadata": {},
   "outputs": [],
   "source": [
    "key_list = ['Champlain', 'Depression']"
   ]
  },
  {
   "cell_type": "code",
   "execution_count": 271,
   "id": "worse-office",
   "metadata": {},
   "outputs": [],
   "source": [
    "phrase = 'Il faut rentrer a Montreal'"
   ]
  },
  {
   "cell_type": "code",
   "execution_count": 272,
   "id": "adaptive-cooperative",
   "metadata": {},
   "outputs": [],
   "source": [
    "key_df = pd.DataFrame.from_dict({phrase:[True, True]}, orient='index', columns=key_list)"
   ]
  },
  {
   "cell_type": "code",
   "execution_count": 273,
   "id": "vertical-buddy",
   "metadata": {},
   "outputs": [
    {
     "data": {
      "text/html": [
       "<div>\n",
       "<style scoped>\n",
       "    .dataframe tbody tr th:only-of-type {\n",
       "        vertical-align: middle;\n",
       "    }\n",
       "\n",
       "    .dataframe tbody tr th {\n",
       "        vertical-align: top;\n",
       "    }\n",
       "\n",
       "    .dataframe thead th {\n",
       "        text-align: right;\n",
       "    }\n",
       "</style>\n",
       "<table border=\"1\" class=\"dataframe\">\n",
       "  <thead>\n",
       "    <tr style=\"text-align: right;\">\n",
       "      <th></th>\n",
       "      <th>Champlain</th>\n",
       "      <th>Depression</th>\n",
       "    </tr>\n",
       "  </thead>\n",
       "  <tbody>\n",
       "    <tr>\n",
       "      <th>Il faut rentrer a Montreal</th>\n",
       "      <td>True</td>\n",
       "      <td>True</td>\n",
       "    </tr>\n",
       "  </tbody>\n",
       "</table>\n",
       "</div>"
      ],
      "text/plain": [
       "                            Champlain  Depression\n",
       "Il faut rentrer a Montreal       True        True"
      ]
     },
     "execution_count": 273,
     "metadata": {},
     "output_type": "execute_result"
    }
   ],
   "source": [
    "key_df"
   ]
  },
  {
   "cell_type": "code",
   "execution_count": 274,
   "id": "accredited-rover",
   "metadata": {},
   "outputs": [],
   "source": [
    "new_key_list = ['Shawinigan', 'Chomage']"
   ]
  },
  {
   "cell_type": "code",
   "execution_count": 275,
   "id": "copyrighted-transparency",
   "metadata": {},
   "outputs": [],
   "source": [
    "new_phrase = 'Apprend a tricoter'"
   ]
  },
  {
   "cell_type": "code",
   "execution_count": 276,
   "id": "gorgeous-contemporary",
   "metadata": {},
   "outputs": [],
   "source": [
    "key_df.loc[new_phrase] = False"
   ]
  },
  {
   "cell_type": "code",
   "execution_count": 277,
   "id": "underlying-price",
   "metadata": {},
   "outputs": [
    {
     "data": {
      "text/html": [
       "<div>\n",
       "<style scoped>\n",
       "    .dataframe tbody tr th:only-of-type {\n",
       "        vertical-align: middle;\n",
       "    }\n",
       "\n",
       "    .dataframe tbody tr th {\n",
       "        vertical-align: top;\n",
       "    }\n",
       "\n",
       "    .dataframe thead th {\n",
       "        text-align: right;\n",
       "    }\n",
       "</style>\n",
       "<table border=\"1\" class=\"dataframe\">\n",
       "  <thead>\n",
       "    <tr style=\"text-align: right;\">\n",
       "      <th></th>\n",
       "      <th>Champlain</th>\n",
       "      <th>Depression</th>\n",
       "    </tr>\n",
       "  </thead>\n",
       "  <tbody>\n",
       "    <tr>\n",
       "      <th>Il faut rentrer a Montreal</th>\n",
       "      <td>True</td>\n",
       "      <td>True</td>\n",
       "    </tr>\n",
       "    <tr>\n",
       "      <th>Apprend a tricoter</th>\n",
       "      <td>False</td>\n",
       "      <td>False</td>\n",
       "    </tr>\n",
       "  </tbody>\n",
       "</table>\n",
       "</div>"
      ],
      "text/plain": [
       "                            Champlain  Depression\n",
       "Il faut rentrer a Montreal       True        True\n",
       "Apprend a tricoter              False       False"
      ]
     },
     "execution_count": 277,
     "metadata": {},
     "output_type": "execute_result"
    }
   ],
   "source": [
    "key_df"
   ]
  },
  {
   "cell_type": "code",
   "execution_count": 278,
   "id": "posted-asian",
   "metadata": {},
   "outputs": [],
   "source": [
    "def add_column_if_missing(name, df):\n",
    "    if not name in df.columns:\n",
    "        df[name] = False"
   ]
  },
  {
   "cell_type": "code",
   "execution_count": 279,
   "id": "quality-blackberry",
   "metadata": {},
   "outputs": [],
   "source": [
    "for key in new_key_list:                                                        \n",
    "    add_column_if_missing(key, key_df)"
   ]
  },
  {
   "cell_type": "code",
   "execution_count": 280,
   "id": "pleased-championship",
   "metadata": {},
   "outputs": [],
   "source": [
    "key_df.loc[new_phrase, new_key_list] = True"
   ]
  },
  {
   "cell_type": "code",
   "execution_count": 281,
   "id": "solar-gibson",
   "metadata": {},
   "outputs": [
    {
     "data": {
      "text/html": [
       "<div>\n",
       "<style scoped>\n",
       "    .dataframe tbody tr th:only-of-type {\n",
       "        vertical-align: middle;\n",
       "    }\n",
       "\n",
       "    .dataframe tbody tr th {\n",
       "        vertical-align: top;\n",
       "    }\n",
       "\n",
       "    .dataframe thead th {\n",
       "        text-align: right;\n",
       "    }\n",
       "</style>\n",
       "<table border=\"1\" class=\"dataframe\">\n",
       "  <thead>\n",
       "    <tr style=\"text-align: right;\">\n",
       "      <th></th>\n",
       "      <th>Champlain</th>\n",
       "      <th>Depression</th>\n",
       "      <th>Shawinigan</th>\n",
       "      <th>Chomage</th>\n",
       "    </tr>\n",
       "  </thead>\n",
       "  <tbody>\n",
       "    <tr>\n",
       "      <th>Il faut rentrer a Montreal</th>\n",
       "      <td>True</td>\n",
       "      <td>True</td>\n",
       "      <td>False</td>\n",
       "      <td>False</td>\n",
       "    </tr>\n",
       "    <tr>\n",
       "      <th>Apprend a tricoter</th>\n",
       "      <td>False</td>\n",
       "      <td>False</td>\n",
       "      <td>True</td>\n",
       "      <td>True</td>\n",
       "    </tr>\n",
       "  </tbody>\n",
       "</table>\n",
       "</div>"
      ],
      "text/plain": [
       "                            Champlain  Depression  Shawinigan  Chomage\n",
       "Il faut rentrer a Montreal       True        True       False    False\n",
       "Apprend a tricoter              False       False        True     True"
      ]
     },
     "execution_count": 281,
     "metadata": {},
     "output_type": "execute_result"
    }
   ],
   "source": [
    "key_df"
   ]
  },
  {
   "cell_type": "code",
   "execution_count": 282,
   "id": "published-theme",
   "metadata": {},
   "outputs": [
    {
     "data": {
      "text/plain": [
       "['Il faut rentrer a Montreal', 'Apprend a tricoter']"
      ]
     },
     "execution_count": 282,
     "metadata": {},
     "output_type": "execute_result"
    }
   ],
   "source": [
    "list(key_df.index.values)"
   ]
  },
  {
   "cell_type": "code",
   "execution_count": 283,
   "id": "banner-winning",
   "metadata": {},
   "outputs": [
    {
     "data": {
      "text/plain": [
       "Index(['Il faut rentrer a Montreal'], dtype='object')"
      ]
     },
     "execution_count": 283,
     "metadata": {},
     "output_type": "execute_result"
    }
   ],
   "source": [
    "key_df.index[key_df.index.str.startswith('I')]"
   ]
  },
  {
   "cell_type": "code",
   "execution_count": null,
   "id": "surprised-nature",
   "metadata": {},
   "outputs": [],
   "source": []
  }
 ],
 "metadata": {
  "kernelspec": {
   "display_name": "Python 3",
   "language": "python",
   "name": "python3"
  },
  "language_info": {
   "codemirror_mode": {
    "name": "ipython",
    "version": 3
   },
   "file_extension": ".py",
   "mimetype": "text/x-python",
   "name": "python",
   "nbconvert_exporter": "python",
   "pygments_lexer": "ipython3",
   "version": "3.9.1"
  }
 },
 "nbformat": 4,
 "nbformat_minor": 5
}
